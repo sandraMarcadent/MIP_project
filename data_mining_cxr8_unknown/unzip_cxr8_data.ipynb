{
 "cells": [
  {
   "cell_type": "markdown",
   "metadata": {},
   "source": [
    "### unzip tar.gz"
   ]
  },
  {
   "cell_type": "code",
   "execution_count": 2,
   "metadata": {},
   "outputs": [
    {
     "name": "stdout",
     "output_type": "stream",
     "text": [
      "/home/sandra/project_GANs/project_GANs_data_mining/cxr8/images_002.tar.gz\n",
      "/home/sandra/project_GANs/project_GANs_data_mining/cxr8/images_001.tar.gz\n"
     ]
    }
   ],
   "source": [
    "import tarfile,fnmatch,os\n",
    "\n",
    "rootPath = r\"/home/sandra/project_GANs/project_GANs_data_mining/cxr8\"\n",
    "pattern = '*.tar.gz'\n",
    "\n",
    "for root, dirs, files in os.walk(rootPath):\n",
    "     for filename in fnmatch.filter(files, pattern):\n",
    "            print(os.path.join(root, filename))\n",
    "            \n",
    "            tarfile.open(os.path.join(root, filename)).extractall(\n",
    "            os.path.join(root, filename.split(\".\")[0]))"
   ]
  },
  {
   "cell_type": "code",
   "execution_count": null,
   "metadata": {
    "collapsed": true
   },
   "outputs": [],
   "source": []
  }
 ],
 "metadata": {
  "kernelspec": {
   "display_name": "Python 3",
   "language": "python",
   "name": "python3"
  },
  "language_info": {
   "codemirror_mode": {
    "name": "ipython",
    "version": 3
   },
   "file_extension": ".py",
   "mimetype": "text/x-python",
   "name": "python",
   "nbconvert_exporter": "python",
   "pygments_lexer": "ipython3",
   "version": "3.6.1"
  }
 },
 "nbformat": 4,
 "nbformat_minor": 2
}
